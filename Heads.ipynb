{
 "cells": [
  {
   "cell_type": "code",
   "execution_count": 49,
   "id": "5aac7c87-83ac-4e35-8783-75fd8c072aa8",
   "metadata": {},
   "outputs": [],
   "source": [
    "import pandas as pd"
   ]
  },
  {
   "cell_type": "code",
   "execution_count": 71,
   "id": "9658dbcb-c301-4b56-91bd-68ce1ae28d47",
   "metadata": {
    "scrolled": true
   },
   "outputs": [
    {
     "data": {
      "text/html": [
       "<div>\n",
       "<style scoped>\n",
       "    .dataframe tbody tr th:only-of-type {\n",
       "        vertical-align: middle;\n",
       "    }\n",
       "\n",
       "    .dataframe tbody tr th {\n",
       "        vertical-align: top;\n",
       "    }\n",
       "\n",
       "    .dataframe thead th {\n",
       "        text-align: right;\n",
       "    }\n",
       "</style>\n",
       "<table border=\"1\" class=\"dataframe\">\n",
       "  <thead>\n",
       "    <tr style=\"text-align: right;\">\n",
       "      <th></th>\n",
       "      <th>ID</th>\n",
       "      <th>NUMERO</th>\n",
       "      <th>NOMBRE</th>\n",
       "      <th>DIRECCION</th>\n",
       "      <th>BARRIO</th>\n",
       "      <th>COMUNA</th>\n",
       "      <th>EMPLAZAMIENTO</th>\n",
       "      <th>ANCLAJES</th>\n",
       "      <th>QUEDA ABIERTA</th>\n",
       "      <th>Latitud</th>\n",
       "      <th>Longitud</th>\n",
       "    </tr>\n",
       "  </thead>\n",
       "  <tbody>\n",
       "    <tr>\n",
       "      <th>0</th>\n",
       "      <td>202</td>\n",
       "      <td>1</td>\n",
       "      <td>FACULTAD DE DERECHO</td>\n",
       "      <td>2120 Figueroa Alcorta, Pres. Av.</td>\n",
       "      <td>RECOLETA</td>\n",
       "      <td>COMUNA 2</td>\n",
       "      <td>VEREDA</td>\n",
       "      <td>30.0</td>\n",
       "      <td>1</td>\n",
       "      <td>-34.5842</td>\n",
       "      <td>-58.3905</td>\n",
       "    </tr>\n",
       "    <tr>\n",
       "      <th>1</th>\n",
       "      <td>2</td>\n",
       "      <td>2</td>\n",
       "      <td>RETIRO I</td>\n",
       "      <td>Ramos Mejia, Jose Maria, Dr. Av. &amp; Del Liberta...</td>\n",
       "      <td>RETIRO</td>\n",
       "      <td>COMUNA 1</td>\n",
       "      <td>PLAZA ABIERTA</td>\n",
       "      <td>36.0</td>\n",
       "      <td>1</td>\n",
       "      <td>-34.5927</td>\n",
       "      <td>-58.3751</td>\n",
       "    </tr>\n",
       "    <tr>\n",
       "      <th>2</th>\n",
       "      <td>3</td>\n",
       "      <td>3</td>\n",
       "      <td>ADUANA</td>\n",
       "      <td>Moreno &amp; Azopardo</td>\n",
       "      <td>MONSERRAT</td>\n",
       "      <td>COMUNA 1</td>\n",
       "      <td>VEREDA</td>\n",
       "      <td>20.0</td>\n",
       "      <td>1</td>\n",
       "      <td>-34.6112</td>\n",
       "      <td>-58.3696</td>\n",
       "    </tr>\n",
       "    <tr>\n",
       "      <th>3</th>\n",
       "      <td>4</td>\n",
       "      <td>4</td>\n",
       "      <td>PLAZA ROMA</td>\n",
       "      <td>Lavalle &amp; Bouchard</td>\n",
       "      <td>SAN NICOLAS</td>\n",
       "      <td>COMUNA 1</td>\n",
       "      <td>CALZADA</td>\n",
       "      <td>20.0</td>\n",
       "      <td>1</td>\n",
       "      <td>-34.6018</td>\n",
       "      <td>-58.3691</td>\n",
       "    </tr>\n",
       "    <tr>\n",
       "      <th>4</th>\n",
       "      <td>5</td>\n",
       "      <td>5</td>\n",
       "      <td>PLAZA ITALIA</td>\n",
       "      <td>2601 Sarmiento Av.</td>\n",
       "      <td>PALERMO</td>\n",
       "      <td>COMUNA 14</td>\n",
       "      <td>VEREDA</td>\n",
       "      <td>42.0</td>\n",
       "      <td>1</td>\n",
       "      <td>-34.5808</td>\n",
       "      <td>-58.4204</td>\n",
       "    </tr>\n",
       "  </tbody>\n",
       "</table>\n",
       "</div>"
      ],
      "text/plain": [
       "    ID  NUMERO               NOMBRE  \\\n",
       "0  202       1  FACULTAD DE DERECHO   \n",
       "1    2       2             RETIRO I   \n",
       "2    3       3               ADUANA   \n",
       "3    4       4           PLAZA ROMA   \n",
       "4    5       5         PLAZA ITALIA   \n",
       "\n",
       "                                           DIRECCION       BARRIO     COMUNA  \\\n",
       "0                   2120 Figueroa Alcorta, Pres. Av.     RECOLETA   COMUNA 2   \n",
       "1  Ramos Mejia, Jose Maria, Dr. Av. & Del Liberta...       RETIRO   COMUNA 1   \n",
       "2                                  Moreno & Azopardo    MONSERRAT   COMUNA 1   \n",
       "3                                 Lavalle & Bouchard  SAN NICOLAS   COMUNA 1   \n",
       "4                                 2601 Sarmiento Av.      PALERMO  COMUNA 14   \n",
       "\n",
       "   EMPLAZAMIENTO  ANCLAJES  QUEDA ABIERTA  Latitud  Longitud  \n",
       "0         VEREDA      30.0              1 -34.5842  -58.3905  \n",
       "1  PLAZA ABIERTA      36.0              1 -34.5927  -58.3751  \n",
       "2         VEREDA      20.0              1 -34.6112  -58.3696  \n",
       "3        CALZADA      20.0              1 -34.6018  -58.3691  \n",
       "4         VEREDA      42.0              1 -34.5808  -58.4204  "
      ]
     },
     "execution_count": 71,
     "metadata": {},
     "output_type": "execute_result"
    }
   ],
   "source": [
    "estaciones = pd.read_csv(\"estaciones_bicis .csv\")\n",
    "estaciones.head()"
   ]
  },
  {
   "cell_type": "code",
   "execution_count": 80,
   "id": "2890b384-abe6-428f-b50e-85bac8917928",
   "metadata": {},
   "outputs": [
    {
     "name": "stdout",
     "output_type": "stream",
     "text": [
      "471\n",
      "459\n",
      "400\n"
     ]
    },
    {
     "data": {
      "text/plain": [
       "<pandas.core.indexing._iLocIndexer at 0x7f43055dd0e0>"
      ]
     },
     "execution_count": 80,
     "metadata": {},
     "output_type": "execute_result"
    }
   ],
   "source": [
    "print(len(estaciones.NOMBRE.unique()))\n",
    "print(len(estaciones.ID.unique()))\n",
    "print(len(estaciones.NUMERO.unique()))"
   ]
  },
  {
   "cell_type": "code",
   "execution_count": null,
   "id": "12c6679b-d432-4113-a41a-86ab6d4e00dd",
   "metadata": {},
   "outputs": [],
   "source": [
    "\n"
   ]
  },
  {
   "cell_type": "code",
   "execution_count": 21,
   "id": "970e9e2e-7c64-419b-9832-7d26ac64b93d",
   "metadata": {},
   "outputs": [
    {
     "name": "stdout",
     "output_type": "stream",
     "text": [
      "471\n",
      "['VEREDA' 'PLAZA ABIERTA' 'CALZADA' 'PLAZOLETA' 'PLAZA CERRADA'\n",
      " 'VEREDA/dentro del ministerio' 'PLAZA']\n"
     ]
    },
    {
     "data": {
      "text/html": [
       "<div>\n",
       "<style scoped>\n",
       "    .dataframe tbody tr th:only-of-type {\n",
       "        vertical-align: middle;\n",
       "    }\n",
       "\n",
       "    .dataframe tbody tr th {\n",
       "        vertical-align: top;\n",
       "    }\n",
       "\n",
       "    .dataframe thead th {\n",
       "        text-align: right;\n",
       "    }\n",
       "</style>\n",
       "<table border=\"1\" class=\"dataframe\">\n",
       "  <thead>\n",
       "    <tr style=\"text-align: right;\">\n",
       "      <th></th>\n",
       "      <th>ID</th>\n",
       "      <th>NUMERO</th>\n",
       "      <th>ANCLAJES</th>\n",
       "      <th>QUEDA ABIERTA</th>\n",
       "      <th>Latitud</th>\n",
       "      <th>Longitud</th>\n",
       "    </tr>\n",
       "  </thead>\n",
       "  <tbody>\n",
       "    <tr>\n",
       "      <th>count</th>\n",
       "      <td>471.000000</td>\n",
       "      <td>471.000000</td>\n",
       "      <td>469.000000</td>\n",
       "      <td>471.000000</td>\n",
       "      <td>471.000000</td>\n",
       "      <td>471.000000</td>\n",
       "    </tr>\n",
       "    <tr>\n",
       "      <th>mean</th>\n",
       "      <td>260.628450</td>\n",
       "      <td>204.095541</td>\n",
       "      <td>18.287846</td>\n",
       "      <td>0.912951</td>\n",
       "      <td>-34.603935</td>\n",
       "      <td>-58.431409</td>\n",
       "    </tr>\n",
       "    <tr>\n",
       "      <th>std</th>\n",
       "      <td>149.186874</td>\n",
       "      <td>115.839422</td>\n",
       "      <td>4.925544</td>\n",
       "      <td>0.751496</td>\n",
       "      <td>0.028303</td>\n",
       "      <td>0.041611</td>\n",
       "    </tr>\n",
       "    <tr>\n",
       "      <th>min</th>\n",
       "      <td>2.000000</td>\n",
       "      <td>1.000000</td>\n",
       "      <td>6.000000</td>\n",
       "      <td>0.000000</td>\n",
       "      <td>-34.683200</td>\n",
       "      <td>-58.521700</td>\n",
       "    </tr>\n",
       "    <tr>\n",
       "      <th>25%</th>\n",
       "      <td>131.500000</td>\n",
       "      <td>104.500000</td>\n",
       "      <td>16.000000</td>\n",
       "      <td>1.000000</td>\n",
       "      <td>-34.623250</td>\n",
       "      <td>-58.464900</td>\n",
       "    </tr>\n",
       "    <tr>\n",
       "      <th>50%</th>\n",
       "      <td>263.000000</td>\n",
       "      <td>206.000000</td>\n",
       "      <td>20.000000</td>\n",
       "      <td>1.000000</td>\n",
       "      <td>-34.604800</td>\n",
       "      <td>-58.432800</td>\n",
       "    </tr>\n",
       "    <tr>\n",
       "      <th>75%</th>\n",
       "      <td>387.500000</td>\n",
       "      <td>307.000000</td>\n",
       "      <td>20.000000</td>\n",
       "      <td>1.000000</td>\n",
       "      <td>-34.585400</td>\n",
       "      <td>-58.397050</td>\n",
       "    </tr>\n",
       "    <tr>\n",
       "      <th>max</th>\n",
       "      <td>519.000000</td>\n",
       "      <td>400.000000</td>\n",
       "      <td>48.000000</td>\n",
       "      <td>3.000000</td>\n",
       "      <td>-34.541400</td>\n",
       "      <td>-58.355600</td>\n",
       "    </tr>\n",
       "  </tbody>\n",
       "</table>\n",
       "</div>"
      ],
      "text/plain": [
       "               ID      NUMERO    ANCLAJES  QUEDA ABIERTA     Latitud  \\\n",
       "count  471.000000  471.000000  469.000000     471.000000  471.000000   \n",
       "mean   260.628450  204.095541   18.287846       0.912951  -34.603935   \n",
       "std    149.186874  115.839422    4.925544       0.751496    0.028303   \n",
       "min      2.000000    1.000000    6.000000       0.000000  -34.683200   \n",
       "25%    131.500000  104.500000   16.000000       1.000000  -34.623250   \n",
       "50%    263.000000  206.000000   20.000000       1.000000  -34.604800   \n",
       "75%    387.500000  307.000000   20.000000       1.000000  -34.585400   \n",
       "max    519.000000  400.000000   48.000000       3.000000  -34.541400   \n",
       "\n",
       "         Longitud  \n",
       "count  471.000000  \n",
       "mean   -58.431409  \n",
       "std      0.041611  \n",
       "min    -58.521700  \n",
       "25%    -58.464900  \n",
       "50%    -58.432800  \n",
       "75%    -58.397050  \n",
       "max    -58.355600  "
      ]
     },
     "execution_count": 21,
     "metadata": {},
     "output_type": "execute_result"
    }
   ],
   "source": [
    "print(estaciones[\"EMPLAZAMIENTO\"].unique())\n",
    "estaciones.describe()"
   ]
  },
  {
   "cell_type": "code",
   "execution_count": null,
   "id": "b336f4ec-337f-495f-9c85-d306ee226b8a",
   "metadata": {},
   "outputs": [],
   "source": [
    "e())\n",
    "febrero.head()"
   ]
  },
  {
   "cell_type": "code",
   "execution_count": 52,
   "id": "db68cb72-7bad-4767-a9ca-05bd2d70b01a",
   "metadata": {},
   "outputs": [
    {
     "data": {
      "text/plain": [
       "array([1, 0, 3])"
      ]
     },
     "execution_count": 52,
     "metadata": {},
     "output_type": "execute_result"
    }
   ],
   "source": [
    "estaciones[\"QUEDA ABIERTA\"].unique()"
   ]
  },
  {
   "cell_type": "code",
   "execution_count": null,
   "id": "6fc18091-38f2-46ed-9956-3c00632055c5",
   "metadata": {},
   "outputs": [],
   "source": []
  }
 ],
 "metadata": {
  "kernelspec": {
   "display_name": "Python 3 (ipykernel)",
   "language": "python",
   "name": "python3"
  },
  "language_info": {
   "codemirror_mode": {
    "name": "ipython",
    "version": 3
   },
   "file_extension": ".py",
   "mimetype": "text/x-python",
   "name": "python",
   "nbconvert_exporter": "python",
   "pygments_lexer": "ipython3",
   "version": "3.8.18"
  }
 },
 "nbformat": 4,
 "nbformat_minor": 5
}
