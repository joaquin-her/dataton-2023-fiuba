{
 "cells": [
  {
   "cell_type": "code",
   "execution_count": 19,
   "id": "b04bd753-abbf-462b-9eba-a6eca164ea44",
   "metadata": {},
   "outputs": [
    {
     "data": {
      "text/plain": [
       "' un poco de exploracion para ver si la cantidad de anclajes limita de alguna forma el uso el servicio '"
      ]
     },
     "execution_count": 19,
     "metadata": {},
     "output_type": "execute_result"
    }
   ],
   "source": [
    "# relacion salida barrios y anclajes \n",
    "''' un poco de exploracion para ver si la cantidad de anclajes limita de alguna forma el uso el servicio ''' "
   ]
  },
  {
   "cell_type": "code",
   "execution_count": 20,
   "id": "cd37ad19-345a-4ff4-89cc-fc8720d20300",
   "metadata": {},
   "outputs": [],
   "source": [
    "import pandas as pd \n"
   ]
  },
  {
   "cell_type": "code",
   "execution_count": 31,
   "id": "49b94edc-7bbf-40ca-93ea-f83afd7c9f09",
   "metadata": {},
   "outputs": [],
   "source": [
    "viajes_febrero = pd.read_csv(\"distancia_de_viaje_febrero.csv\")\n",
    "viajes_marzo = pd.read_csv(\"distancia_de_viaje_con_duracion.csv\")\n",
    "total_viajes = pd.concat([viajes_febrero, viajes_marzo], ignore_index=True)"
   ]
  },
  {
   "cell_type": "code",
   "execution_count": 33,
   "id": "c412fe4a-1d60-404a-b2ca-1f17f45813db",
   "metadata": {},
   "outputs": [],
   "source": [
    "total_viajes.to_csv(\"viajes_febrero-marzo.csv\",index = False)\n"
   ]
  },
  {
   "cell_type": "code",
   "execution_count": null,
   "id": "9b676ab4-a4a2-43f6-893d-e586b2c809d2",
   "metadata": {},
   "outputs": [],
   "source": []
  }
 ],
 "metadata": {
  "kernelspec": {
   "display_name": "Python 3 (ipykernel)",
   "language": "python",
   "name": "python3"
  },
  "language_info": {
   "codemirror_mode": {
    "name": "ipython",
    "version": 3
   },
   "file_extension": ".py",
   "mimetype": "text/x-python",
   "name": "python",
   "nbconvert_exporter": "python",
   "pygments_lexer": "ipython3",
   "version": "3.8.18"
  }
 },
 "nbformat": 4,
 "nbformat_minor": 5
}
