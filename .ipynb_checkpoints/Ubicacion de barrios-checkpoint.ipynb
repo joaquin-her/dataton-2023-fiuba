{
 "cells": [
  {
   "cell_type": "code",
   "execution_count": 1,
   "id": "779d9398-663a-4572-9995-3114b06b8ef3",
   "metadata": {},
   "outputs": [
    {
     "data": {
      "text/plain": [
       "'calcular latitud promedio para cada barrio: \\n    si tiene una sola estacion: dejar las coordenadas que tenga esa estacion \\n    si tiene 3 o mas estaciones: triangular las 3 coordenadas para sacar un punto medio \\n    si tiene 2: calcular las coordendas intermedias entre las 2 '"
      ]
     },
     "execution_count": 1,
     "metadata": {},
     "output_type": "execute_result"
    }
   ],
   "source": [
    "#latitudes de barrio \n",
    "'''calcular latitud promedio para cada barrio: \n",
    "    si tiene una sola estacion: dejar las coordenadas que tenga esa estacion \n",
    "    si tiene 3 o mas estaciones: triangular las 3 coordenadas para sacar un punto medio \n",
    "    si tiene 2: calcular las coordendas intermedias entre las 2 ''' "
   ]
  },
  {
   "cell_type": "code",
   "execution_count": 2,
   "id": "8fab870e-3bd6-494c-a81c-3e3759355a44",
   "metadata": {},
   "outputs": [],
   "source": [
    "import pandas as pd \n",
    "import math \n",
    "estaciones = pd.read_csv(\"estaciones_bicis .csv\")\n",
    "distancias = pd.read_csv(\"distancia_de_viaje.csv\")"
   ]
  },
  {
   "cell_type": "code",
   "execution_count": 7,
   "id": "65512580-09f3-48d1-8b91-355c78058388",
   "metadata": {},
   "outputs": [],
   "source": [
    "def crearFormatID(fila):\n",
    "    #La funcion devuelve la cadena concatenada de el indice con 3 cifras y el nombre\n",
    "    id = str(fila[1]).zfill(3)\n",
    "    return f\"{str(id)} - {str(fila[2])}\"\n",
    "import unicodedata\n",
    "\n",
    "def procesar_string(input_string):\n",
    "    # Convertir a mayúsculas\n",
    "    input_string = input_string.upper()\n",
    "    # Eliminar tildes\n",
    "    input_string = ''.join((c for c in unicodedata.normalize('NFD', input_string) if unicodedata.category(c) != 'Mn'))\n",
    "    input_string.strip()\n",
    "    input_string = input_string.replace(\"-\", \" - \")\n",
    "    return input_string"
   ]
  },
  {
   "cell_type": "code",
   "execution_count": 10,
   "id": "43cd6b5a-0c91-47f8-bf54-be7743c59e7a",
   "metadata": {},
   "outputs": [
    {
     "name": "stderr",
     "output_type": "stream",
     "text": [
      "/run/user/1000/app/org.jupyter.JupyterLab/ipykernel_4567/455673317.py:4: SettingWithCopyWarning: \n",
      "A value is trying to be set on a copy of a slice from a DataFrame.\n",
      "Try using .loc[row_indexer,col_indexer] = value instead\n",
      "\n",
      "See the caveats in the documentation: https://pandas.pydata.org/pandas-docs/stable/user_guide/indexing.html#returning-a-view-versus-a-copy\n",
      "  tablaDeLatitudes['FormatId'] = estaciones['FormatId'].apply(procesar_string)\n"
     ]
    },
    {
     "data": {
      "text/html": [
       "<div>\n",
       "<style scoped>\n",
       "    .dataframe tbody tr th:only-of-type {\n",
       "        vertical-align: middle;\n",
       "    }\n",
       "\n",
       "    .dataframe tbody tr th {\n",
       "        vertical-align: top;\n",
       "    }\n",
       "\n",
       "    .dataframe thead th {\n",
       "        text-align: right;\n",
       "    }\n",
       "</style>\n",
       "<table border=\"1\" class=\"dataframe\">\n",
       "  <thead>\n",
       "    <tr style=\"text-align: right;\">\n",
       "      <th></th>\n",
       "      <th>FormatId</th>\n",
       "      <th>Latitud</th>\n",
       "      <th>Longitud</th>\n",
       "      <th>BARRIO</th>\n",
       "    </tr>\n",
       "  </thead>\n",
       "  <tbody>\n",
       "    <tr>\n",
       "      <th>0</th>\n",
       "      <td>001  -  FACULTAD DE DERECHO</td>\n",
       "      <td>-34.5842</td>\n",
       "      <td>-58.3905</td>\n",
       "      <td>RECOLETA</td>\n",
       "    </tr>\n",
       "    <tr>\n",
       "      <th>1</th>\n",
       "      <td>002  -  RETIRO I</td>\n",
       "      <td>-34.5927</td>\n",
       "      <td>-58.3751</td>\n",
       "      <td>RETIRO</td>\n",
       "    </tr>\n",
       "    <tr>\n",
       "      <th>2</th>\n",
       "      <td>003  -  ADUANA</td>\n",
       "      <td>-34.6112</td>\n",
       "      <td>-58.3696</td>\n",
       "      <td>MONSERRAT</td>\n",
       "    </tr>\n",
       "    <tr>\n",
       "      <th>3</th>\n",
       "      <td>004  -  PLAZA ROMA</td>\n",
       "      <td>-34.6018</td>\n",
       "      <td>-58.3691</td>\n",
       "      <td>SAN NICOLAS</td>\n",
       "    </tr>\n",
       "    <tr>\n",
       "      <th>4</th>\n",
       "      <td>005  -  PLAZA ITALIA</td>\n",
       "      <td>-34.5808</td>\n",
       "      <td>-58.4204</td>\n",
       "      <td>PALERMO</td>\n",
       "    </tr>\n",
       "    <tr>\n",
       "      <th>...</th>\n",
       "      <td>...</td>\n",
       "      <td>...</td>\n",
       "      <td>...</td>\n",
       "      <td>...</td>\n",
       "    </tr>\n",
       "    <tr>\n",
       "      <th>466</th>\n",
       "      <td>314  -  ALLENDE</td>\n",
       "      <td>-34.6147</td>\n",
       "      <td>-58.5116</td>\n",
       "      <td>VILLA DEVOTO</td>\n",
       "    </tr>\n",
       "    <tr>\n",
       "      <th>467</th>\n",
       "      <td>266  -  PLAZA SABATTINI</td>\n",
       "      <td>-34.6124</td>\n",
       "      <td>-58.4433</td>\n",
       "      <td>CABALLITO</td>\n",
       "    </tr>\n",
       "    <tr>\n",
       "      <th>468</th>\n",
       "      <td>055  -  HABANA</td>\n",
       "      <td>-34.5865</td>\n",
       "      <td>-58.4949</td>\n",
       "      <td>VILLA PUEYRREDON</td>\n",
       "    </tr>\n",
       "    <tr>\n",
       "      <th>469</th>\n",
       "      <td>041  -  PARQUE PATRICIOS II</td>\n",
       "      <td>-34.6374</td>\n",
       "      <td>-58.4057</td>\n",
       "      <td>PARQUE PATRICIOS</td>\n",
       "    </tr>\n",
       "    <tr>\n",
       "      <th>470</th>\n",
       "      <td>080  -  VALLE</td>\n",
       "      <td>-34.6244</td>\n",
       "      <td>-58.4342</td>\n",
       "      <td>CABALLITO</td>\n",
       "    </tr>\n",
       "  </tbody>\n",
       "</table>\n",
       "<p>471 rows × 4 columns</p>\n",
       "</div>"
      ],
      "text/plain": [
       "                        FormatId  Latitud  Longitud            BARRIO\n",
       "0    001  -  FACULTAD DE DERECHO -34.5842  -58.3905          RECOLETA\n",
       "1               002  -  RETIRO I -34.5927  -58.3751            RETIRO\n",
       "2                 003  -  ADUANA -34.6112  -58.3696         MONSERRAT\n",
       "3             004  -  PLAZA ROMA -34.6018  -58.3691       SAN NICOLAS\n",
       "4           005  -  PLAZA ITALIA -34.5808  -58.4204           PALERMO\n",
       "..                           ...      ...       ...               ...\n",
       "466              314  -  ALLENDE -34.6147  -58.5116      VILLA DEVOTO\n",
       "467      266  -  PLAZA SABATTINI -34.6124  -58.4433         CABALLITO\n",
       "468               055  -  HABANA -34.5865  -58.4949  VILLA PUEYRREDON\n",
       "469  041  -  PARQUE PATRICIOS II -34.6374  -58.4057  PARQUE PATRICIOS\n",
       "470                080  -  VALLE -34.6244  -58.4342         CABALLITO\n",
       "\n",
       "[471 rows x 4 columns]"
      ]
     },
     "execution_count": 10,
     "metadata": {},
     "output_type": "execute_result"
    }
   ],
   "source": [
    "tablaDeLatitudes = pd.DataFrame()\n",
    "estaciones[\"FormatId\"] = estaciones.apply(crearFormatID, axis=1)\n",
    "tablaDeLatitudes = estaciones[['FormatId','Latitud','Longitud','BARRIO']] \n",
    "tablaDeLatitudes['FormatId'] = estaciones['FormatId'].apply(procesar_string)"
   ]
  },
  {
   "cell_type": "code",
   "execution_count": 32,
   "id": "fe8981bb-45b6-42a5-a239-6d0999f82f96",
   "metadata": {},
   "outputs": [
    {
     "data": {
      "text/plain": [
       "BARRIO\n",
       "PALERMO                41\n",
       "BELGRANO               28\n",
       "SAN NICOLAS            27\n",
       "CABALLITO              26\n",
       "BALVANERA              22\n",
       "FLORES                 21\n",
       "RECOLETA               21\n",
       "ALMAGRO                18\n",
       "MONSERRAT              17\n",
       "RETIRO                 13\n",
       "PUERTO MADERO          13\n",
       "BOCA                   12\n",
       "VILLA URQUIZA          11\n",
       "PARQUE PATRICIOS       11\n",
       "VILLA CRESPO           11\n",
       "COLEGIALES             10\n",
       "PARQUE CHACABUCO       10\n",
       "SAAVEDRA               10\n",
       "BARRACAS               10\n",
       "NUEVA POMPEYA          10\n",
       "NUÑEZ                   9\n",
       "CHACARITA               8\n",
       "VILLA DEL PARQUE        8\n",
       "FLORESTA                7\n",
       "BOEDO                   7\n",
       "PATERNAL                7\n",
       "VILLA GENERAL MITRE     6\n",
       "VILLA DEVOTO            6\n",
       "VILLA LUGANO            6\n",
       "SAN TELMO               6\n",
       "VILLA ORTUZAR           5\n",
       "VILLA PUEYRREDON        5\n",
       "VILLA LURO              4\n",
       "PARQUE CHAS             4\n",
       "SAN CRISTOBAL           4\n",
       "PARQUE AVELLANEDA       4\n",
       "CONSTITUCION            4\n",
       "COGHLAN                 4\n",
       "MONTE CASTRO            3\n",
       "DEVOTO                  3\n",
       "VILLA SANTA RITA        3\n",
       "VILLA SOLDATI           3\n",
       "AGRONOMIA               3\n",
       "MATADEROS               2\n",
       "LINIERS                 2\n",
       "VILLA REAL              2\n",
       "VELEZ SARFIELD          1\n",
       "VELEZ SARSFIELD         1\n",
       "VERSALLES               1\n",
       "MATADERO                1\n",
       "Name: count, dtype: int64"
      ]
     },
     "execution_count": 32,
     "metadata": {},
     "output_type": "execute_result"
    }
   ],
   "source": [
    "tablaDeLatitudes = tablaDeLatitudes.sort_values('BARRIO')\n",
    "tablaDeLatitudes['BARRIO'].value_counts()"
   ]
  },
  {
   "cell_type": "code",
   "execution_count": 37,
   "id": "0f6ad923-44e2-47c0-8cee-3a4191bfbaf0",
   "metadata": {},
   "outputs": [
    {
     "data": {
      "text/html": [
       "<div>\n",
       "<style scoped>\n",
       "    .dataframe tbody tr th:only-of-type {\n",
       "        vertical-align: middle;\n",
       "    }\n",
       "\n",
       "    .dataframe tbody tr th {\n",
       "        vertical-align: top;\n",
       "    }\n",
       "\n",
       "    .dataframe thead th {\n",
       "        text-align: right;\n",
       "    }\n",
       "</style>\n",
       "<table border=\"1\" class=\"dataframe\">\n",
       "  <thead>\n",
       "    <tr style=\"text-align: right;\">\n",
       "      <th></th>\n",
       "      <th>BARRIO</th>\n",
       "      <th>Latitud</th>\n",
       "      <th>Longitud</th>\n",
       "    </tr>\n",
       "  </thead>\n",
       "  <tbody>\n",
       "    <tr>\n",
       "      <th>0</th>\n",
       "      <td>AGRONOMIA</td>\n",
       "      <td>-34.593233</td>\n",
       "      <td>-58.486207</td>\n",
       "    </tr>\n",
       "    <tr>\n",
       "      <th>1</th>\n",
       "      <td>ALMAGRO</td>\n",
       "      <td>-34.607628</td>\n",
       "      <td>-58.419772</td>\n",
       "    </tr>\n",
       "    <tr>\n",
       "      <th>2</th>\n",
       "      <td>BALVANERA</td>\n",
       "      <td>-34.608845</td>\n",
       "      <td>-58.402159</td>\n",
       "    </tr>\n",
       "    <tr>\n",
       "      <th>3</th>\n",
       "      <td>BARRACAS</td>\n",
       "      <td>-34.644030</td>\n",
       "      <td>-58.380860</td>\n",
       "    </tr>\n",
       "    <tr>\n",
       "      <th>4</th>\n",
       "      <td>BELGRANO</td>\n",
       "      <td>-34.555647</td>\n",
       "      <td>-58.451378</td>\n",
       "    </tr>\n",
       "  </tbody>\n",
       "</table>\n",
       "</div>"
      ],
      "text/plain": [
       "      BARRIO    Latitud   Longitud\n",
       "0  AGRONOMIA -34.593233 -58.486207\n",
       "1    ALMAGRO -34.607628 -58.419772\n",
       "2  BALVANERA -34.608845 -58.402159\n",
       "3   BARRACAS -34.644030 -58.380860\n",
       "4   BELGRANO -34.555647 -58.451378"
      ]
     },
     "execution_count": 37,
     "metadata": {},
     "output_type": "execute_result"
    }
   ],
   "source": [
    "ubicacion_media_por_barrio = tablaDeLatitudes.groupby('BARRIO').agg({'Latitud': 'mean', 'Longitud': 'mean'}).reset_index()\n",
    "\n",
    "ubicacion_media_por_barrio[:5]"
   ]
  },
  {
   "cell_type": "code",
   "execution_count": 49,
   "id": "0b5be177-d04e-41f3-8419-37467be608e5",
   "metadata": {},
   "outputs": [],
   "source": [
    "#lo convierto a string para comodidad de transformado en power bi\n",
    "ubicacion_media_por_barrio['Latitud'] = ubicacion_media_por_barrio['Latitud'].apply(lambda latitud : str(latitud))\n",
    "ubicacion_media_por_barrio['Longitud'] = ubicacion_media_por_barrio['Longitud'].apply(lambda longitud : str(longitud))"
   ]
  },
  {
   "cell_type": "code",
   "execution_count": 50,
   "id": "e2f680ea-df23-45ee-b5e4-ba1a19884dfc",
   "metadata": {},
   "outputs": [],
   "source": [
    "ubicacion_media_por_barrio.to_csv(\"ubicacion_de_cada_barrio.csv\")"
   ]
  },
  {
   "cell_type": "code",
   "execution_count": null,
   "id": "7dcaf602-c1c4-4b99-8684-91876c366ae1",
   "metadata": {},
   "outputs": [],
   "source": []
  }
 ],
 "metadata": {
  "kernelspec": {
   "display_name": "Python 3 (ipykernel)",
   "language": "python",
   "name": "python3"
  },
  "language_info": {
   "codemirror_mode": {
    "name": "ipython",
    "version": 3
   },
   "file_extension": ".py",
   "mimetype": "text/x-python",
   "name": "python",
   "nbconvert_exporter": "python",
   "pygments_lexer": "ipython3",
   "version": "3.8.18"
  }
 },
 "nbformat": 4,
 "nbformat_minor": 5
}
