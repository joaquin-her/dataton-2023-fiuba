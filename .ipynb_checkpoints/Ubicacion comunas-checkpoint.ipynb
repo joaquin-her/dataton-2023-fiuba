{
 "cells": [
  {
   "cell_type": "code",
   "execution_count": null,
   "id": "95c04ee1-e792-42e4-8729-4046142c4bda",
   "metadata": {},
   "outputs": [],
   "source": []
  }
 ],
 "metadata": {
  "kernelspec": {
   "display_name": "Python 3 (ipykernel)",
   "language": "python",
   "name": "python3"
  },
  "language_info": {
   "name": ""
  }
 },
 "nbformat": 4,
 "nbformat_minor": 5
}
