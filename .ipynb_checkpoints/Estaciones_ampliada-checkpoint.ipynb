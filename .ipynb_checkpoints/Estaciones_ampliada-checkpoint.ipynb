{
 "cells": [
  {
   "cell_type": "code",
   "execution_count": null,
   "id": "b91eec2d-db6d-41dd-9df1-b87448db677e",
   "metadata": {},
   "outputs": [],
   "source": [
    "# estaciones bicis ampliada\n",
    "# comparar columna normalizada y modificada-normalizada"
   ]
  },
  {
   "cell_type": "code",
   "execution_count": null,
   "id": "3f72e9fd-b8b5-4184-b7eb-847c530e35f0",
   "metadata": {},
   "outputs": [],
   "source": [
    "import pandas as pd\n"
   ]
  },
  {
   "cell_type": "code",
   "execution_count": null,
   "id": "33bd8513-6d18-45e6-bf1a-db281b1bf4fa",
   "metadata": {},
   "outputs": [],
   "source": [
    "estaciones = pd.read_csv('estaciones_bicis .csv') \n",
    "ubicaciones_barrio = pd.read_csv('ubicacion_de_cada_barrio.csv') \n",
    "estaciones_ampliada = pd.DataFrame()"
   ]
  },
  {
   "cell_type": "code",
   "execution_count": null,
   "id": "acb88c74-e140-4fd9-82ee-e346c22f4aee",
   "metadata": {},
   "outputs": [],
   "source": [
    "import unicodedata\n",
    "def procesar_string(input_string):\n",
    "    # Convertir a mayúsculas\n",
    "    input_string = input_string.upper()\n",
    "    # Eliminar tildes\n",
    "    input_string = ''.join((c for c in unicodedata.normalize('NFD', input_string) if unicodedata.category(c) != 'Mn'))\n",
    "    input_string.strip()\n",
    "    input_string = input_string.replace(\"-\", \" - \")\n",
    "    return input_string\n",
    "\n",
    "def to_upper(nombre): \n",
    "    return nombre.upper() \n",
    "    \n",
    "def crearFormatID(fila):\n",
    "    #La funcion devuelve la cadena concatenada de el indice con 3 cifras y el nombre\n",
    "    id = str(fila[1]).zfill(3)\n",
    "    return f\"{str(id)} - {to_upper(str(fila[2]))}\"\n"
   ]
  },
  {
   "cell_type": "code",
   "execution_count": null,
   "id": "7d986a8b-2060-417a-a59d-a75ecbea7a15",
   "metadata": {},
   "outputs": [],
   "source": [
    "columnas = ['Barrio','Comuna','Numero','Nombre','Latitud','Longitud', 'Anclajes']\n",
    "estaciones_ampliada[columnas] = estaciones[['BARRIO','COMUNA','NUMERO','NOMBRE','Latitud','Longitud','ANCLAJES']]\n",
    "estaciones_ampliada[:2]"
   ]
  },
  {
   "cell_type": "code",
   "execution_count": null,
   "id": "61a26409-e02e-4d75-9fda-790fcaa3fcff",
   "metadata": {},
   "outputs": [],
   "source": [
    "ubicaciones_barrio[:2]"
   ]
  },
  {
   "cell_type": "code",
   "execution_count": null,
   "id": "8319afce-29ca-4010-ad0d-867b857c6abd",
   "metadata": {},
   "outputs": [],
   "source": [
    "estaciones_ampliada['FormatId'] = estaciones.apply( lambda fila: crearFormatID(fila) , axis = 1)\n",
    "estaciones_ampliada = estaciones_ampliada.sort_values('FormatId')"
   ]
  },
  {
   "cell_type": "code",
   "execution_count": null,
   "id": "60bdf880-b13b-4d1a-929d-c1ca00f3f328",
   "metadata": {},
   "outputs": [],
   "source": [
    "estaciones_ampliada.to_csv(\"estaciones_ampliada.csv\", index = False)"
   ]
  },
  {
   "cell_type": "code",
   "execution_count": null,
   "id": "56daa739-36b3-481a-aec8-e223f2ae3cdb",
   "metadata": {},
   "outputs": [],
   "source": [
    "estaciones_ampliada"
   ]
  }
 ],
 "metadata": {
  "kernelspec": {
   "display_name": "Python 3 (ipykernel)",
   "language": "python",
   "name": "python3"
  },
  "language_info": {
   "codemirror_mode": {
    "name": "ipython",
    "version": 3
   },
   "file_extension": ".py",
   "mimetype": "text/x-python",
   "name": "python",
   "nbconvert_exporter": "python",
   "pygments_lexer": "ipython3",
   "version": "3.8.18"
  }
 },
 "nbformat": 4,
 "nbformat_minor": 5
}
